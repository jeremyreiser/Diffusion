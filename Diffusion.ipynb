{
 "cells": [
  {
   "cell_type": "code",
   "execution_count": 4,
   "metadata": {},
   "outputs": [
    {
     "data": {
      "image/png": "[encoded data removed]",
      "text/plain": [
       "<Figure size 432x288 with 2 Axes>"
      ]
     },
     "metadata": {
      "needs_background": "light"
     },
     "output_type": "display_data"
    }
   ],
   "source": [
    "#Jeremy Reiser\n",
    "#CSE4095 Assignment 5\n",
    "%matplotlib inline\n",
    "import numpy as np\n",
    "import seaborn as sb\n",
    "import matplotlib.pylab as plt\n",
    "from IPython.display import display,clear_output\n",
    "\n",
    "N = 10\n",
    "minDiff = 0.3          #sets the stopping parameter (once diffusion per loop reaches 0.3 micromolar)\n",
    "coeff = 5\n",
    "DX = 0.1\n",
    "DY = 0.1\n",
    "DT = DX**2/(2*coeff)   #calculates time interval\n",
    "x = np.zeros((N,N))\n",
    "x[3,6] = 23\n",
    "difference = 1\n",
    "sb.heatmap(x, linewidth=0.5)\n",
    "plt.show()\n",
    "\n",
    "while(difference >= minDiff):\n",
    "    difference = 0                 #resets total diffusion count for this loop\n",
    "    for i in range(1, N-1):\n",
    "        for j in range(1, N-1):    #formula for 2D diffusion:\n",
    "            diffusion=(DT*((x[i+1,j]-2*x[i,j]+x[i-1,j])/DX**2 + (x[i,j+1]-2*x[i,j]+x[i,j-1])/DY**2) + x[i,j])-x[i,j]\n",
    "            x[i,j] = x[i,j] + diffusion     #adds diffusion to cell\n",
    "            difference = difference + abs(diffusion)   #tracks diffusion for this loop\n",
    "    clear_output(wait=True)\n",
    "    sb.heatmap(x, linewidth=0.5)    #update plot variables\n",
    "    plt.show()                      #then replot\n",
    "    "
   ]
  },
  {
   "cell_type": "code",
   "execution_count": null,
   "metadata": {},
   "outputs": [],
   "source": []
  },
  {
   "cell_type": "code",
   "execution_count": null,
   "metadata": {},
   "outputs": [],
   "source": []
  }
 ],
 "metadata": {
  "kernelspec": {
   "display_name": "Python 3",
   "language": "python",
   "name": "python3"
  },
  "language_info": {
   "codemirror_mode": {
    "name": "ipython",
    "version": 3
   },
   "file_extension": ".py",
   "mimetype": "text/x-python",
   "name": "python",
   "nbconvert_exporter": "python",
   "pygments_lexer": "ipython3",
   "version": "3.7.1"
  }
 },
 "nbformat": 4,
 "nbformat_minor": 2
}
